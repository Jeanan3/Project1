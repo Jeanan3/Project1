{
 "cells": [
  {
   "cell_type": "code",
   "execution_count": null,
   "metadata": {},
   "outputs": [],
   "source": [
    "name =input(\"What's your name\")\n",
    "print(\"Your name is:\", name)\n",
    "age=int(input(\"how old are you\"))\n",
    "print(\"you are:\", age, \"years old\")\n",
    "\n",
    "if 0<= age <= 5:\n",
    "        print(\"You are literally a child: Generation Alpha\")\n",
    "elif 6<= age <=23:\n",
    "        print(\"Your still growing: Generation Z\")\n",
    "elif 24<= age <=38:\n",
    "        print(\"You are a real adult: Millennial Generation\")\n",
    "elif 39<= age <=53:\n",
    "        print(\"Have you started planning your retierment: Generation X\")\n",
    "elif 54<= age <= 72:\n",
    "        print(\"Geez how are you still alive: Baby Boomer\")\n",
    "elif 73<= age <=120:\n",
    "    print(\"you should contact the Guniness Book of records!\")"
   ]
  },
  {
   "cell_type": "code",
   "execution_count": null,
   "metadata": {},
   "outputs": [],
   "source": []
  }
 ],
 "metadata": {
  "kernelspec": {
   "display_name": "Python 3",
   "language": "python",
   "name": "python3"
  },
  "language_info": {
   "codemirror_mode": {
    "name": "ipython",
    "version": 3
   },
   "file_extension": ".py",
   "mimetype": "text/x-python",
   "name": "python",
   "nbconvert_exporter": "python",
   "pygments_lexer": "ipython3",
   "version": "3.8.3"
  }
 },
 "nbformat": 4,
 "nbformat_minor": 4
}
